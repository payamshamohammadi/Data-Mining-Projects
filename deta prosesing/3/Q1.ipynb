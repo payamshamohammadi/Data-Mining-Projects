{
 "cells": [
  {
   "cell_type": "code",
   "execution_count": 124,
   "id": "655f3981",
   "metadata": {},
   "outputs": [],
   "source": [
    "import pandas as pd\n",
    "import numpy as np\n",
    "from collections import OrderedDict\n",
    "from collections import Counter\n",
    "import itertools"
   ]
  },
  {
   "cell_type": "code",
   "execution_count": 125,
   "id": "d6f25474",
   "metadata": {},
   "outputs": [],
   "source": [
    "# vared kardane file csv\n",
    "data = pd.read_csv('GroceryStoreDataSet.csv')\n",
    "\n",
    "# vared kardane data be list\n",
    "items = []\n",
    "items = (data.keys()[0].split(','))\n",
    "\n",
    "for i in range(0, len(data)):\n",
    "    tempList = []\n",
    "    tempList = data.iloc[i,0].split(',')\n",
    "    for j in tempList:\n",
    "        items.append(j)"
   ]
  },
  {
   "cell_type": "code",
   "execution_count": 127,
   "id": "544a2661",
   "metadata": {},
   "outputs": [
    {
     "name": "stdout",
     "output_type": "stream",
     "text": [
      "Item Frequencies:\n",
      "MILK 5\n",
      "BREAD 13\n",
      "BISCUIT 7\n",
      "CORNFLAKES 6\n",
      "TEA 7\n",
      "BOURNVITA 4\n",
      "JAM 2\n",
      "MAGGI 5\n",
      "COFFEE 8\n",
      "COCK 3\n",
      "SUGER 6\n",
      "\n",
      "Frequent Itemsets:\n",
      "('COFFEE',) 8\n",
      "('BISCUIT',) 7\n",
      "('TEA',) 7\n",
      "('BREAD',) 13\n",
      "\n",
      "Association Rules:\n"
     ]
    }
   ],
   "source": [
    "# tedade transaction ha\n",
    "num_transactions = len(items)\n",
    "\n",
    "# peyda kardane itemhaye monhaser be fard\n",
    "unique_items = set(items)\n",
    "\n",
    "# mohasebeye tekrare har item\n",
    "item_frequencies = Counter(items)\n",
    "\n",
    "# tekrare har item\n",
    "print('Item Frequencies:')\n",
    "for item, frequency in item_frequencies.items():\n",
    "    print(item, frequency)\n",
    "\n",
    "# tayine min support\n",
    "min_support = 0.1\n",
    "\n",
    "# mohasebeye min tekrar baraye sharte min support\n",
    "min_support_count = min_support * num_transactions\n",
    "\n",
    "# peyda kardane itemhaye por tekrartar\n",
    "frequent_itemsets = []\n",
    "for i in range(1, len(unique_items) + 1):\n",
    "    itemsets = [set(itemset) for itemset in itertools.combinations(unique_items, i)]\n",
    "    for itemset in itemsets:\n",
    "        count = sum([1 for transaction in items if itemset.issubset(set(transaction.split()))])\n",
    "        if count >= min_support_count:\n",
    "            frequent_itemsets.append((tuple(sorted(itemset)), count))\n",
    "\n",
    "# hazf mavaredi ke tekrar kami darand\n",
    "# va adame chap anha\n",
    "frequent_itemsets = [itemset for itemset in frequent_itemsets if itemset[1] >= min_support_count]\n",
    "\n",
    "# moasebeye gavanin\n",
    "rules = []\n",
    "for itemset, support in frequent_itemsets:\n",
    "    for i in range(1, len(itemset)):\n",
    "        for antecedent in itertools.combinations(itemset, i):\n",
    "            antecedent = tuple(sorted(antecedent))\n",
    "            consequent = tuple(sorted(set(itemset) - set(antecedent)))\n",
    "            antecedent_support = sum([1 for transaction in items if set(antecedent).issubset(set(transaction.split()))])\n",
    "            if antecedent_support >= min_support_count:\n",
    "                confidence = support / antecedent_support\n",
    "                lift = (confidence * num_transactions) / (len(set(antecedent)) * len(set(consequent)))\n",
    "                if confidence >= 0.7 and lift > 1:\n",
    "                    rules.append((antecedent, consequent, support, antecedent_support, confidence, lift))\n",
    "\n",
    "# chape tedade tekrar va gavanin\n",
    "print('\\nFrequent Itemsets:')\n",
    "for itemset, support in frequent_itemsets:\n",
    "    print(itemset, support)\n",
    "print('\\nAssociation Rules:')\n",
    "for antecedent, consequent, support, antecedent_support, confidence, lift in rules:\n",
    "    print(antecedent, '-->', consequent, 'Support:', support, 'Antecedent Support:', antecedent_support, 'Confidence:', confidence, 'Lift:', lift)"
   ]
  },
  {
   "cell_type": "code",
   "execution_count": null,
   "id": "bb4f8b60",
   "metadata": {},
   "outputs": [],
   "source": []
  }
 ],
 "metadata": {
  "kernelspec": {
   "display_name": "Python 3 (ipykernel)",
   "language": "python",
   "name": "python3"
  },
  "language_info": {
   "codemirror_mode": {
    "name": "ipython",
    "version": 3
   },
   "file_extension": ".py",
   "mimetype": "text/x-python",
   "name": "python",
   "nbconvert_exporter": "python",
   "pygments_lexer": "ipython3",
   "version": "3.9.13"
  }
 },
 "nbformat": 4,
 "nbformat_minor": 5
}
